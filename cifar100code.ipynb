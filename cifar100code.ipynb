{
 "cells": [
  {
   "cell_type": "code",
   "execution_count": 1,
   "id": "1ae9ba8a",
   "metadata": {},
   "outputs": [],
   "source": [
    "import numpy as np\n",
    "import pandas as pd\n",
    "import random \n",
    "import matplotlib.pyplot as plt\n",
    "import tensorflow as tf\n",
    "import seaborn as sb\n",
    "import keras\n",
    "from tensorflow  import keras\n",
    "from keras.callbacks import Callback\n",
    "from keras.models import Sequential\n",
    "from keras.layers.convolutional import Conv2D\n",
    "from keras.layers import MaxPooling2D\n",
    "from keras.layers.core import Dense,Activation,Dropout,Flatten\n",
    "from tensorflow.keras.layers import BatchNormalization\n",
    "from tensorflow.keras.initializers import RandomNormal, Constant\n",
    "from tensorflow.keras.preprocessing.image import ImageDataGenerator\n",
    "from keras.optimizers import Adam"
   ]
  },
  {
   "cell_type": "code",
   "execution_count": 2,
   "id": "11f539b6",
   "metadata": {},
   "outputs": [],
   "source": [
    "(train_imgs,train_labels),(test_imgs,test_labels) = keras.datasets.cifar100.load_data()\n",
    "file =(\"cifar100labels.txt\")\n",
    "labels = np.loadtxt(file,dtype=\"U\",delimiter=',')"
   ]
  },
  {
   "cell_type": "code",
   "execution_count": 3,
   "id": "9432dc6a",
   "metadata": {
    "scrolled": true
   },
   "outputs": [
    {
     "name": "stdout",
     "output_type": "stream",
     "text": [
      "train shape : (50000, 32, 32, 3)  ---- test shape : (10000, 32, 32, 3)\n"
     ]
    }
   ],
   "source": [
    "print(f\"train shape : {train_imgs.shape}  ---- test shape : {test_imgs.shape}\")"
   ]
  },
  {
   "cell_type": "code",
   "execution_count": 4,
   "id": "725dca98",
   "metadata": {
    "scrolled": false
   },
   "outputs": [
    {
     "data": {
      "image/png": "[encoded data removed]",
      "text/plain": [
       "<Figure size 1000x500 with 2 Axes>"
      ]
     },
     "metadata": {},
     "output_type": "display_data"
    }
   ],
   "source": [
    "%matplotlib inline\n",
    "plt.figure(figsize =(10,5))\n",
    "x=random.randint(0,len(train_labels))\n",
    "plt.imshow(train_imgs[x])\n",
    "plt.title(labels[train_labels[x][0]],fontsize=10)\n",
    "plt.colorbar()\n",
    "plt.show()"
   ]
  },
  {
   "cell_type": "code",
   "execution_count": 4,
   "id": "e6c6fd34",
   "metadata": {},
   "outputs": [],
   "source": [
    "from tensorflow.keras.utils import to_categorical\n",
    "\n",
    "# Normalize images\n",
    "train_imgs = train_imgs.astype('float32')/255\n",
    "test_imgs = test_imgs.astype('float32')/255\n",
    "\n",
    "# Transform labels to one hot encoding\n",
    "\n",
    "train_labels = to_categorical(train_labels)\n",
    "test_labels = to_categorical(test_labels)"
   ]
  },
  {
   "cell_type": "code",
   "execution_count": 5,
   "id": "971294bd",
   "metadata": {},
   "outputs": [],
   "source": [
    "class myCallback(Callback):\n",
    "    def on_epoch_end(self,epoch,logs={}):\n",
    "        if (logs.get(\"val_accuracy\")>0.6):\n",
    "            print(\"\\n accuracy reached the highest point,cancelling session\")\n",
    "            self.model.stop_training=True\n",
    "callback = myCallback()\n",
    "classes=100"
   ]
  },
  {
   "cell_type": "code",
   "execution_count": 6,
   "id": "e8640b5f",
   "metadata": {},
   "outputs": [
    {
     "name": "stdout",
     "output_type": "stream",
     "text": [
      "Model: \"sequential\"\n",
      "_________________________________________________________________\n",
      " Layer (type)                Output Shape              Param #   \n",
      "=================================================================\n",
      " conv2d (Conv2D)             (None, 32, 32, 128)       3584      \n",
      "                                                                 \n",
      " activation (Activation)     (None, 32, 32, 128)       0         \n",
      "                                                                 \n",
      " conv2d_1 (Conv2D)           (None, 30, 30, 128)       147584    \n",
      "                                                                 \n",
      " activation_1 (Activation)   (None, 30, 30, 128)       0         \n",
      "                                                                 \n",
      " max_pooling2d (MaxPooling2D  (None, 15, 15, 128)      0         \n",
      " )                                                               \n",
      "                                                                 \n",
      " conv2d_2 (Conv2D)           (None, 15, 15, 256)       295168    \n",
      "                                                                 \n",
      " activation_2 (Activation)   (None, 15, 15, 256)       0         \n",
      "                                                                 \n",
      " conv2d_3 (Conv2D)           (None, 13, 13, 256)       590080    \n",
      "                                                                 \n",
      " activation_3 (Activation)   (None, 13, 13, 256)       0         \n",
      "                                                                 \n",
      " max_pooling2d_1 (MaxPooling  (None, 6, 6, 256)        0         \n",
      " 2D)                                                             \n",
      "                                                                 \n",
      " dropout (Dropout)           (None, 6, 6, 256)         0         \n",
      "                                                                 \n",
      " conv2d_4 (Conv2D)           (None, 6, 6, 512)         1180160   \n",
      "                                                                 \n",
      " activation_4 (Activation)   (None, 6, 6, 512)         0         \n",
      "                                                                 \n",
      " flatten (Flatten)           (None, 18432)             0         \n",
      "                                                                 \n",
      " dense (Dense)               (None, 1024)              18875392  \n",
      "                                                                 \n",
      " activation_5 (Activation)   (None, 1024)              0         \n",
      "                                                                 \n",
      " dropout_1 (Dropout)         (None, 1024)              0         \n",
      "                                                                 \n",
      " dense_1 (Dense)             (None, 512)               524800    \n",
      "                                                                 \n",
      " activation_6 (Activation)   (None, 512)               0         \n",
      "                                                                 \n",
      " dropout_2 (Dropout)         (None, 512)               0         \n",
      "                                                                 \n",
      " dense_2 (Dense)             (None, 100)               51300     \n",
      "                                                                 \n",
      " activation_7 (Activation)   (None, 100)               0         \n",
      "                                                                 \n",
      "=================================================================\n",
      "Total params: 21,668,068\n",
      "Trainable params: 21,668,068\n",
      "Non-trainable params: 0\n",
      "_________________________________________________________________\n"
     ]
    }
   ],
   "source": [
    "model = Sequential()\n",
    "model.add(Conv2D(128, (3, 3), padding='same', input_shape=train_imgs.shape[1:]))\n",
    "model.add(Activation('elu'))\n",
    "\n",
    "model.add(Conv2D(128, (3, 3)))\n",
    "model.add(Activation('elu'))\n",
    "model.add(MaxPooling2D(pool_size=(2, 2)))\n",
    "\n",
    "model.add(Conv2D(256, (3, 3), padding='same'))\n",
    "model.add(Activation('elu'))\n",
    "\n",
    "model.add(Conv2D(256, (3, 3)))\n",
    "model.add(Activation('elu'))\n",
    "model.add(MaxPooling2D(pool_size=(2, 2)))\n",
    "model.add(Dropout(0.25))\n",
    "\n",
    "model.add(Conv2D(512, (3, 3), padding='same'))\n",
    "model.add(Activation('elu'))\n",
    "\n",
    "model.add(Flatten())\n",
    "model.add(Dense(1024))\n",
    "model.add(Activation('elu'))\n",
    "model.add(Dropout(0.5))\n",
    "model.add(Dense(512))\n",
    "model.add(Activation('elu'))\n",
    "model.add(Dropout(0.5))\n",
    "model.add(Dense(classes))\n",
    "model.add(Activation('softmax'))\n",
    "\n",
    "model.summary()"
   ]
  },
  {
   "cell_type": "code",
   "execution_count": 7,
   "id": "b6d3f6ac",
   "metadata": {},
   "outputs": [],
   "source": [
    "model.compile(loss='categorical_crossentropy', optimizer=Adam(learning_rate = 0.0001), metrics=['accuracy'])"
   ]
  },
  {
   "cell_type": "code",
   "execution_count": 8,
   "id": "85ad13cf",
   "metadata": {},
   "outputs": [],
   "source": [
    "# Data Augmentation\n",
    "datagen = ImageDataGenerator(\n",
    "            featurewise_center=False,  # set input mean to 0 over the dataset\n",
    "            samplewise_center=False,  # set each sample mean to 0\n",
    "            featurewise_std_normalization=False,  # divide inputs by std of the dataset\n",
    "            samplewise_std_normalization=False,  # divide each input by its standard deviation\n",
    "            zca_whitening=False,  # apply ZCA whitening\n",
    "            rotation_range=0,  # randomly rotate images in the range (degrees, 0 to 180)\n",
    "            width_shift_range=0.1, \n",
    "            height_shift_range=0.1,  \n",
    "            horizontal_flip=True,  \n",
    "            vertical_flip=False)  \n",
    "\n",
    "datagen.fit(train_imgs)"
   ]
  },
  {
   "cell_type": "code",
   "execution_count": 10,
   "id": "ab555e42",
   "metadata": {},
   "outputs": [
    {
     "name": "stdout",
     "output_type": "stream",
     "text": [
      "Epoch 1/50\n",
      "1000/1000 [==============================] - 683s 683ms/step - loss: 3.4810 - accuracy: 0.1809 - val_loss: 2.9462 - val_accuracy: 0.2924\n",
      "Epoch 2/50\n",
      "1000/1000 [==============================] - 667s 667ms/step - loss: 3.1828 - accuracy: 0.2330 - val_loss: 2.7209 - val_accuracy: 0.3345\n",
      "Epoch 3/50\n",
      "1000/1000 [==============================] - 624s 624ms/step - loss: 3.0206 - accuracy: 0.2647 - val_loss: 2.5680 - val_accuracy: 0.3622\n",
      "Epoch 4/50\n",
      "1000/1000 [==============================] - 645s 645ms/step - loss: 2.9102 - accuracy: 0.2841 - val_loss: 2.4656 - val_accuracy: 0.3787\n",
      "Epoch 5/50\n",
      "1000/1000 [==============================] - 657s 657ms/step - loss: 2.8101 - accuracy: 0.3060 - val_loss: 2.3548 - val_accuracy: 0.4028\n",
      "Epoch 6/50\n",
      "1000/1000 [==============================] - 635s 635ms/step - loss: 2.7428 - accuracy: 0.3174 - val_loss: 2.3031 - val_accuracy: 0.4116\n",
      "Epoch 7/50\n",
      "1000/1000 [==============================] - 629s 629ms/step - loss: 2.6795 - accuracy: 0.3297 - val_loss: 2.2850 - val_accuracy: 0.4163\n",
      "Epoch 8/50\n",
      "1000/1000 [==============================] - 627s 627ms/step - loss: 2.6282 - accuracy: 0.3395 - val_loss: 2.2908 - val_accuracy: 0.4121\n",
      "Epoch 9/50\n",
      "1000/1000 [==============================] - 629s 629ms/step - loss: 2.5801 - accuracy: 0.3518 - val_loss: 2.1629 - val_accuracy: 0.4440\n",
      "Epoch 10/50\n",
      "1000/1000 [==============================] - 664s 664ms/step - loss: 2.5410 - accuracy: 0.3596 - val_loss: 2.1477 - val_accuracy: 0.4431\n",
      "Epoch 11/50\n",
      "1000/1000 [==============================] - 632s 632ms/step - loss: 2.5019 - accuracy: 0.3651 - val_loss: 2.1401 - val_accuracy: 0.4445\n",
      "Epoch 12/50\n",
      "1000/1000 [==============================] - 635s 635ms/step - loss: 2.4682 - accuracy: 0.3743 - val_loss: 2.0756 - val_accuracy: 0.4566\n",
      "Epoch 13/50\n",
      "1000/1000 [==============================] - 631s 631ms/step - loss: 2.4288 - accuracy: 0.3783 - val_loss: 2.0285 - val_accuracy: 0.4726\n",
      "Epoch 14/50\n",
      "1000/1000 [==============================] - 634s 634ms/step - loss: 2.3980 - accuracy: 0.3866 - val_loss: 2.0435 - val_accuracy: 0.4670\n",
      "Epoch 15/50\n",
      "1000/1000 [==============================] - 632s 632ms/step - loss: 2.3722 - accuracy: 0.3945 - val_loss: 2.0399 - val_accuracy: 0.4635\n",
      "Epoch 16/50\n",
      "1000/1000 [==============================] - 694s 694ms/step - loss: 2.3417 - accuracy: 0.3992 - val_loss: 1.9603 - val_accuracy: 0.4795\n",
      "Epoch 17/50\n",
      "1000/1000 [==============================] - 634s 634ms/step - loss: 2.3190 - accuracy: 0.4025 - val_loss: 1.9850 - val_accuracy: 0.4797\n",
      "Epoch 18/50\n",
      "1000/1000 [==============================] - 637s 637ms/step - loss: 2.2930 - accuracy: 0.4100 - val_loss: 1.9953 - val_accuracy: 0.4725\n",
      "Epoch 19/50\n",
      "1000/1000 [==============================] - 632s 632ms/step - loss: 2.2638 - accuracy: 0.4140 - val_loss: 1.9367 - val_accuracy: 0.4913\n",
      "Epoch 20/50\n",
      "1000/1000 [==============================] - 634s 634ms/step - loss: 2.2439 - accuracy: 0.4189 - val_loss: 1.8911 - val_accuracy: 0.5005\n",
      "Epoch 21/50\n",
      "1000/1000 [==============================] - 634s 634ms/step - loss: 2.2345 - accuracy: 0.4196 - val_loss: 1.9133 - val_accuracy: 0.4929\n",
      "Epoch 22/50\n",
      "1000/1000 [==============================] - 633s 633ms/step - loss: 2.2064 - accuracy: 0.4271 - val_loss: 1.8741 - val_accuracy: 0.4947\n",
      "Epoch 23/50\n",
      "1000/1000 [==============================] - 634s 634ms/step - loss: 2.1735 - accuracy: 0.4355 - val_loss: 1.8611 - val_accuracy: 0.5005\n",
      "Epoch 24/50\n",
      "1000/1000 [==============================] - 637s 637ms/step - loss: 2.1579 - accuracy: 0.4350 - val_loss: 1.8382 - val_accuracy: 0.5079\n",
      "Epoch 25/50\n",
      "1000/1000 [==============================] - 636s 636ms/step - loss: 2.1452 - accuracy: 0.4370 - val_loss: 1.7953 - val_accuracy: 0.5151\n",
      "Epoch 26/50\n",
      "1000/1000 [==============================] - 637s 637ms/step - loss: 2.1258 - accuracy: 0.4430 - val_loss: 1.8423 - val_accuracy: 0.5099\n",
      "Epoch 27/50\n",
      "1000/1000 [==============================] - 640s 640ms/step - loss: 2.1062 - accuracy: 0.4484 - val_loss: 1.8440 - val_accuracy: 0.5082\n",
      "Epoch 28/50\n",
      "1000/1000 [==============================] - 636s 636ms/step - loss: 2.0917 - accuracy: 0.4520 - val_loss: 1.7792 - val_accuracy: 0.5212\n",
      "Epoch 29/50\n",
      "1000/1000 [==============================] - 638s 638ms/step - loss: 2.0684 - accuracy: 0.4527 - val_loss: 1.7842 - val_accuracy: 0.5224\n",
      "Epoch 30/50\n",
      "1000/1000 [==============================] - 634s 634ms/step - loss: 2.0589 - accuracy: 0.4587 - val_loss: 1.7467 - val_accuracy: 0.5265\n",
      "Epoch 31/50\n",
      "1000/1000 [==============================] - 639s 639ms/step - loss: 2.0422 - accuracy: 0.4626 - val_loss: 1.7268 - val_accuracy: 0.5311\n",
      "Epoch 32/50\n",
      "1000/1000 [==============================] - 633s 633ms/step - loss: 2.0240 - accuracy: 0.4652 - val_loss: 1.7427 - val_accuracy: 0.5336\n",
      "Epoch 33/50\n",
      "1000/1000 [==============================] - 634s 634ms/step - loss: 2.0133 - accuracy: 0.4703 - val_loss: 1.7129 - val_accuracy: 0.5350\n",
      "Epoch 34/50\n",
      "1000/1000 [==============================] - 630s 630ms/step - loss: 1.9828 - accuracy: 0.4714 - val_loss: 1.6993 - val_accuracy: 0.5438\n",
      "Epoch 35/50\n",
      "1000/1000 [==============================] - 629s 629ms/step - loss: 1.9696 - accuracy: 0.4785 - val_loss: 1.7132 - val_accuracy: 0.5332\n",
      "Epoch 36/50\n",
      "1000/1000 [==============================] - 632s 632ms/step - loss: 1.9671 - accuracy: 0.4786 - val_loss: 1.6790 - val_accuracy: 0.5429\n",
      "Epoch 37/50\n",
      "1000/1000 [==============================] - 629s 629ms/step - loss: 1.9475 - accuracy: 0.4847 - val_loss: 1.7110 - val_accuracy: 0.5370\n",
      "Epoch 38/50\n",
      "1000/1000 [==============================] - 629s 629ms/step - loss: 1.9330 - accuracy: 0.4851 - val_loss: 1.6887 - val_accuracy: 0.5406\n",
      "Epoch 39/50\n",
      "1000/1000 [==============================] - 629s 629ms/step - loss: 1.9119 - accuracy: 0.4883 - val_loss: 1.6389 - val_accuracy: 0.5544\n",
      "Epoch 40/50\n",
      "1000/1000 [==============================] - 634s 634ms/step - loss: 1.8949 - accuracy: 0.4969 - val_loss: 1.6081 - val_accuracy: 0.5603\n",
      "Epoch 41/50\n",
      "1000/1000 [==============================] - 635s 635ms/step - loss: 1.8866 - accuracy: 0.4960 - val_loss: 1.6522 - val_accuracy: 0.5546\n",
      "Epoch 42/50\n",
      "1000/1000 [==============================] - 651s 651ms/step - loss: 1.8658 - accuracy: 0.4976 - val_loss: 1.6233 - val_accuracy: 0.5598\n",
      "Epoch 43/50\n",
      "1000/1000 [==============================] - 649s 649ms/step - loss: 1.8481 - accuracy: 0.5023 - val_loss: 1.6477 - val_accuracy: 0.5549\n",
      "Epoch 44/50\n",
      "1000/1000 [==============================] - 634s 634ms/step - loss: 1.8413 - accuracy: 0.5076 - val_loss: 1.6288 - val_accuracy: 0.5590\n",
      "Epoch 45/50\n",
      "1000/1000 [==============================] - 634s 634ms/step - loss: 1.8325 - accuracy: 0.5057 - val_loss: 1.6318 - val_accuracy: 0.5603\n",
      "Epoch 46/50\n",
      "1000/1000 [==============================] - 634s 634ms/step - loss: 1.8218 - accuracy: 0.5109 - val_loss: 1.6069 - val_accuracy: 0.5638\n",
      "Epoch 47/50\n",
      "1000/1000 [==============================] - 635s 635ms/step - loss: 1.7980 - accuracy: 0.5147 - val_loss: 1.5644 - val_accuracy: 0.5731\n",
      "Epoch 48/50\n",
      "1000/1000 [==============================] - 634s 634ms/step - loss: 1.7865 - accuracy: 0.5173 - val_loss: 1.5523 - val_accuracy: 0.5780\n",
      "Epoch 49/50\n",
      "1000/1000 [==============================] - 636s 636ms/step - loss: 1.7819 - accuracy: 0.5148 - val_loss: 1.5630 - val_accuracy: 0.5731\n",
      "Epoch 50/50\n",
      "1000/1000 [==============================] - 634s 634ms/step - loss: 1.7571 - accuracy: 0.5234 - val_loss: 1.5668 - val_accuracy: 0.5704\n",
      "Training time: 31906.194952249527\n"
     ]
    }
   ],
   "source": [
    "epoch=50\n",
    "# Fit data to model\n",
    "import time\n",
    "training_start = time.time()\n",
    "history = model.fit(datagen.flow(train_imgs, train_labels, batch_size=50), \n",
    "                   steps_per_epoch=train_imgs.shape[0] // 50,\n",
    "                   epochs=epoch,\n",
    "                   validation_data=(test_imgs, test_labels),\n",
    "                   verbose=1,\n",
    "                   callbacks=callback)\n",
    "training_stop = time.time()\n",
    "training_time = training_stop - training_start\n",
    "print(f\"Training time: {training_time}\")"
   ]
  },
  {
   "cell_type": "code",
   "execution_count": 11,
   "id": "6072b0f8",
   "metadata": {},
   "outputs": [],
   "source": [
    "model.save(\"cifar100.model1\",save_format='h5')"
   ]
  },
  {
   "cell_type": "code",
   "execution_count": 12,
   "id": "025ae716",
   "metadata": {},
   "outputs": [
    {
     "data": {
      "image/png": "[encoded data removed]",
      "text/plain": [
       "<Figure size 640x480 with 1 Axes>"
      ]
     },
     "metadata": {},
     "output_type": "display_data"
    }
   ],
   "source": [
    "def plotting(hist):\n",
    "    plt.plot(hist.history[\"accuracy\"])\n",
    "    plt.plot(hist.history[\"loss\"])\n",
    "    plt.plot(hist.history[\"val_accuracy\"])\n",
    "    plt.plot(hist.history[\"val_loss\"])\n",
    "    plt.title(\"model accuracy\")\n",
    "    plt.ylabel(\"accuracy\")\n",
    "    plt.xlabel(\"epoch\")\n",
    "    plt.legend([\"train\", 'loss',\"validation\",'val_loss'], loc=\"best\")\n",
    "    plt.show()\n",
    "plotting(history)"
   ]
  },
  {
   "cell_type": "code",
   "execution_count": 13,
   "id": "a4bc0887",
   "metadata": {},
   "outputs": [
    {
     "name": "stdout",
     "output_type": "stream",
     "text": [
      "313/313 [==============================] - 25s 78ms/step - loss: 1.5668 - accuracy: 0.5704\n"
     ]
    },
    {
     "data": {
      "text/plain": [
       "[1.5668078660964966, 0.5703999996185303]"
      ]
     },
     "execution_count": 13,
     "metadata": {},
     "output_type": "execute_result"
    }
   ],
   "source": [
    "model.evaluate(test_imgs,test_labels)"
   ]
  }
 ],
 "metadata": {
  "kernelspec": {
   "display_name": "cifar100",
   "language": "python",
   "name": "cifar100"
  },
  "language_info": {
   "codemirror_mode": {
    "name": "ipython",
    "version": 3
   },
   "file_extension": ".py",
   "mimetype": "text/x-python",
   "name": "python",
   "nbconvert_exporter": "python",
   "pygments_lexer": "ipython3",
   "version": "3.9.5"
  }
 },
 "nbformat": 4,
 "nbformat_minor": 5
}
